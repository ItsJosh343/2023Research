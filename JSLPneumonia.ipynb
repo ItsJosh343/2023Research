{
  "nbformat": 4,
  "nbformat_minor": 0,
  "metadata": {
    "colab": {
      "provenance": [],
      "include_colab_link": true
    },
    "kernelspec": {
      "name": "python3",
      "display_name": "Python 3"
    }
  },
  "cells": [
    {
      "cell_type": "markdown",
      "metadata": {
        "id": "view-in-github",
        "colab_type": "text"
      },
      "source": [
        "<a href=\"https://colab.research.google.com/github/ItsJosh343/2023Research/blob/main/JSLPneumonia.ipynb\" target=\"_parent\"><img src=\"https://colab.research.google.com/assets/colab-badge.svg\" alt=\"Open In Colab\"/></a>"
      ]
    },
    {
      "cell_type": "markdown",
      "metadata": {
        "id": "TiM6gYg0nhkY"
      },
      "source": [
        "<font color=\"#de3023\"><h1><b>REMINDER MAKE A COPY OF THIS NOTEBOOK, DO NOT EDIT</b></h1></font>"
      ]
    },
    {
      "cell_type": "markdown",
      "metadata": {
        "id": "T4sLmjIuDpmY"
      },
      "source": [
        "![](https://storage.googleapis.com/kaggle-competitions/kaggle/10338/logos/header.png)"
      ]
    },
    {
      "cell_type": "markdown",
      "metadata": {
        "id": "xyvASmeODyC3"
      },
      "source": [
        "This week, we'll be delving right into the projects. You and your group are going to build an AI tool that can help doctors tell if their patients have pneumonia. We'll start by understanding our problem, identifying:\n",
        "* Who are our key stakeholders? (radiologists AND patients)\n",
        "* What do they want to solve? (detecting pneumonia)\n",
        "* What kind of data do they have? (x-ray images)\n",
        "\n",
        "Once we have all of this information, we will take a step back and plan our approach to designing our medical imaging AI.\n",
        "\n",
        "In today's notebook, we'll explore our data, practice some image manipulation techniques, and start creating an AI model!\n"
      ]
    },
    {
      "cell_type": "markdown",
      "metadata": {
        "id": "Tsa9kzHFh4yU"
      },
      "source": [
        "In this notebook we'll be:\n",
        "1.   Understanding medical imaging, pneumonia, and x-rays\n",
        "2.   Understanding and visualizing our data\n",
        "3.   Understanding how to apply ML to pneumonia prediction\n",
        "\n"
      ]
    },
    {
      "cell_type": "code",
      "metadata": {
        "id": "DMoymbJeqib4",
        "colab": {
          "base_uri": "https://localhost:8080/"
        },
        "outputId": "23753475-2ad1-4a8a-a6f5-d8c694215f27"
      },
      "source": [
        "#@title Run this to download data and prepare our environment! { display-mode: \"form\" }\n",
        "\n",
        "import gdown\n",
        "import zipfile\n",
        "\n",
        "import os\n",
        "import numpy as np\n",
        "import pandas as pd\n",
        "\n",
        "import seaborn as sns\n",
        "import matplotlib.pyplot as plt\n",
        "\n",
        "from sklearn.linear_model import LogisticRegression\n",
        "from sklearn.neural_network import MLPClassifier\n",
        "from sklearn.neighbors import KNeighborsClassifier\n",
        "from sklearn.tree import DecisionTreeClassifier\n",
        "\n",
        "class pkg:\n",
        "  #### DOWNLOADING AND LOADING DATA\n",
        "  def get_metadata(metadata_path, which_splits = ['train', 'test']):\n",
        "    '''returns metadata dataframe which contains columns of:\n",
        "       * index: index of data into numpy data\n",
        "       * class: class of image\n",
        "       * split: which dataset split is this a part of?\n",
        "    '''\n",
        "    metadata = pd.read_csv(metadata_path)\n",
        "    keep_idx = metadata['split'].isin(which_splits)\n",
        "    return metadata[keep_idx]\n",
        "\n",
        "  def get_data_split(split_name, flatten, all_data, metadata, image_shape):\n",
        "    '''\n",
        "    returns images (data), labels from folder of format [image_folder]/[split_name]/[class_name]/\n",
        "    flattens if flatten option is True\n",
        "    '''\n",
        "    sub_df = metadata[metadata['split'].isin([split_name])]\n",
        "    index  = sub_df['index'].values\n",
        "    labels = sub_df['class'].values\n",
        "    data = all_data[index,:]\n",
        "    if flatten:\n",
        "      data = data.reshape([-1, np.product(image_shape)])\n",
        "    return data, labels\n",
        "\n",
        "  def get_train_data(flatten, all_data, metadata, image_shape):\n",
        "    return get_data_split('train', flatten, all_data, metadata, image_shape)\n",
        "\n",
        "  def get_test_data(flatten, all_data, metadata, image_shape):\n",
        "    return get_data_split('test', flatten, all_data, metadata, image_shape)\n",
        "\n",
        "class helpers:\n",
        "  #### PLOTTING\n",
        "  def plot_one_image(data, labels = [], index = None, image_shape = [64,64,3]):\n",
        "    '''\n",
        "    if data is a single image, display that image\n",
        "\n",
        "    if data is a 4d stack of images, display that image\n",
        "    '''\n",
        "    num_dims   = len(data.shape)\n",
        "    num_labels = len(labels)\n",
        "\n",
        "    # reshape data if necessary\n",
        "    if num_dims == 1:\n",
        "      data = data.reshape(target_shape)\n",
        "    if num_dims == 2:\n",
        "      data = data.reshape(np.vstack[-1, image_shape])\n",
        "    num_dims   = len(data.shape)\n",
        "\n",
        "    # check if single or multiple images\n",
        "    if num_dims == 3:\n",
        "      if num_labels > 1:\n",
        "        print('Multiple labels does not make sense for single image.')\n",
        "        return\n",
        "\n",
        "      label = labels\n",
        "      if num_labels == 0:\n",
        "        label = ''\n",
        "      image = data\n",
        "\n",
        "    if num_dims == 4:\n",
        "      image = data[index, :]\n",
        "      label = labels[index]\n",
        "\n",
        "    # plot image of interest\n",
        "    print('Label: %s'%label)\n",
        "    plt.imshow(image)\n",
        "    plt.show()\n",
        "\n",
        "  def plot_acc(history, ax = None, xlabel = 'Epoch #'):\n",
        "    # i'm sorry for this function's code. i am so sorry.\n",
        "    history = history.history\n",
        "    history.update({'epoch':list(range(len(history['val_accuracy'])))})\n",
        "    history = pd.DataFrame.from_dict(history)\n",
        "\n",
        "    best_epoch = history.sort_values(by = 'val_accuracy', ascending = False).iloc[0]['epoch']\n",
        "\n",
        "    if not ax:\n",
        "      f, ax = plt.subplots(1,1)\n",
        "    sns.lineplot(x = 'epoch', y = 'val_accuracy', data = history, label = 'Validation', ax = ax)\n",
        "    sns.lineplot(x = 'epoch', y = 'accuracy', data = history, label = 'Training', ax = ax)\n",
        "    ax.axhline(0.5, linestyle = '--',color='red', label = 'Chance')\n",
        "    ax.axvline(x = best_epoch, linestyle = '--', color = 'green', label = 'Best Epoch')\n",
        "    ax.legend(loc = 1)\n",
        "    ax.set_ylim([0.4, 1])\n",
        "\n",
        "    ax.set_xlabel(xlabel)\n",
        "    ax.set_ylabel('Accuracy (Fraction)')\n",
        "\n",
        "    plt.show()\n",
        "\n",
        "### defining project variables\n",
        "# file variables\n",
        "metadata_url         = \"https://storage.googleapis.com/inspirit-ai-data-bucket-1/Data/AI%20Scholars/Sessions%206%20-%2010%20(Projects)/Project%20-%20(Healthcare%20A)%20Pneumonia/metadata.csv\"\n",
        "image_data_url       = 'https://storage.googleapis.com/inspirit-ai-data-bucket-1/Data/AI%20Scholars/Sessions%206%20-%2010%20(Projects)/Project%20-%20(Healthcare%20A)%20Pneumonia/image_data.npy'\n",
        "image_data_path      = './image_data.npy'\n",
        "metadata_path        = './metadata.csv'\n",
        "image_shape          = (64, 64, 3)\n",
        "\n",
        "# neural net parameters\n",
        "nn_params = {}\n",
        "nn_params['input_shape']       = image_shape\n",
        "nn_params['output_neurons']    = 1\n",
        "nn_params['loss']              = 'binary_crossentropy'\n",
        "nn_params['output_activation'] = 'sigmoid'\n",
        "\n",
        "###\n",
        "# gdown.download(image_data_url, './image_data.npy', True)\n",
        "# gdown.download(metadata_url, './metadata.csv', True)\n",
        "!wget \"https://storage.googleapis.com/inspirit-ai-data-bucket-1/Data/AI%20Scholars/Sessions%206%20-%2010%20(Projects)/Project%20-%20(Healthcare%20A)%20Pneumonia/metadata.csv\"\n",
        "!wget \"https://storage.googleapis.com/inspirit-ai-data-bucket-1/Data/AI%20Scholars/Sessions%206%20-%2010%20(Projects)/Project%20-%20(Healthcare%20A)%20Pneumonia/image_data.npy\"\n",
        "\n",
        "### pre-loading all data of interest\n",
        "_all_data = np.load('image_data.npy')\n",
        "_metadata = pkg.get_metadata(metadata_path, ['train','test','field'])\n",
        "\n",
        "### preparing definitions\n",
        "# downloading and loading data\n",
        "get_data_split = pkg.get_data_split\n",
        "get_metadata    = lambda :                 pkg.get_metadata(metadata_path, ['train','test'])\n",
        "get_train_data  = lambda flatten = False : pkg.get_train_data(flatten = flatten, all_data = _all_data, metadata = _metadata, image_shape = image_shape)\n",
        "get_test_data   = lambda flatten = False : pkg.get_test_data(flatten = flatten, all_data = _all_data, metadata = _metadata, image_shape = image_shape)\n",
        "get_field_data  = lambda flatten = False : pkg.get_field_data(flatten = flatten, all_data = _all_data, metadata = _metadata, image_shape = image_shape)\n",
        "\n",
        "# plotting\n",
        "plot_one_image = lambda data, labels = [], index = None: helpers.plot_one_image(data = data, labels = labels, index = index, image_shape = image_shape);\n"
      ],
      "execution_count": 1,
      "outputs": [
        {
          "output_type": "stream",
          "name": "stdout",
          "text": [
            "--2023-06-13 00:43:25--  https://storage.googleapis.com/inspirit-ai-data-bucket-1/Data/AI%20Scholars/Sessions%206%20-%2010%20(Projects)/Project%20-%20(Healthcare%20A)%20Pneumonia/metadata.csv\n",
            "Resolving storage.googleapis.com (storage.googleapis.com)... 142.251.8.128, 142.251.170.128, 173.194.174.128, ...\n",
            "Connecting to storage.googleapis.com (storage.googleapis.com)|142.251.8.128|:443... connected.\n",
            "HTTP request sent, awaiting response... 200 OK\n",
            "Length: 40508 (40K) [text/csv]\n",
            "Saving to: ‘metadata.csv’\n",
            "\n",
            "metadata.csv        100%[===================>]  39.56K  --.-KB/s    in 0.001s  \n",
            "\n",
            "2023-06-13 00:43:25 (62.9 MB/s) - ‘metadata.csv’ saved [40508/40508]\n",
            "\n",
            "--2023-06-13 00:43:25--  https://storage.googleapis.com/inspirit-ai-data-bucket-1/Data/AI%20Scholars/Sessions%206%20-%2010%20(Projects)/Project%20-%20(Healthcare%20A)%20Pneumonia/image_data.npy\n",
            "Resolving storage.googleapis.com (storage.googleapis.com)... 142.251.8.128, 142.251.170.128, 173.194.174.128, ...\n",
            "Connecting to storage.googleapis.com (storage.googleapis.com)|142.251.8.128|:443... connected.\n",
            "HTTP request sent, awaiting response... 200 OK\n",
            "Length: 137625728 (131M) [application/octet-stream]\n",
            "Saving to: ‘image_data.npy’\n",
            "\n",
            "image_data.npy      100%[===================>] 131.25M  30.2MB/s    in 5.1s    \n",
            "\n",
            "2023-06-13 00:43:30 (25.9 MB/s) - ‘image_data.npy’ saved [137625728/137625728]\n",
            "\n"
          ]
        }
      ]
    },
    {
      "cell_type": "markdown",
      "metadata": {
        "id": "ywKkFG0x6SK6"
      },
      "source": [
        "# Milestone 1. Understanding medical imaging, pneumonia, and x-rays\n"
      ]
    },
    {
      "cell_type": "markdown",
      "metadata": {
        "id": "-0Tb1h9J7t_H"
      },
      "source": [
        "**Discuss: Who are Radiologists? What is Pneumonia?**"
      ]
    },
    {
      "cell_type": "markdown",
      "metadata": {
        "id": "o_FHjcMe6W9e"
      },
      "source": [
        "## Exercise (Discussion)"
      ]
    },
    {
      "cell_type": "markdown",
      "metadata": {
        "id": "VW_R9YsR8XTI"
      },
      "source": [
        "If you have ever broken a bone, it is likely that you had an x-ray.\n",
        "\n",
        "![](http://www.seriousinjuryhelpline.co.uk/wp-content/uploads/2016/09/arm-break-320x320.jpg)"
      ]
    },
    {
      "cell_type": "code",
      "metadata": {
        "id": "rpdIchi28bSw",
        "colab": {
          "base_uri": "https://localhost:8080/"
        },
        "outputId": "c4f5cc97-eaea-4608-b000-5b4862c68710"
      },
      "source": [
        "#@title What part of your body was this x-ray was taken on? What happened to this body part? { display-mode: \"form\" }\n",
        "BodyPart= \"Arm\" #@param [\"Your answer\",\"Leg\",\"Lung\",\"Heart\",\"Arm\"]\n",
        "WhatHappened = \"Fracture\" #@param [\"Your answer\",\"Bruise\",\"Fracture\",\"Nothing\"]\n",
        "\n",
        "if BodyPart == 'Arm':\n",
        "  print('Yes! It is your arm. You can see your hand and your forearm.')\n",
        "  if WhatHappened == \"Fracture\":\n",
        "    print(\"One of your forearm bones broke. :( This is known as a fracture.\")\n",
        "  else:\n",
        "    print('Try again! Not quite what happened.')\n",
        "else:\n",
        "  print('Try again! Not quite that body part or quite what happened.')\n",
        "\n"
      ],
      "execution_count": null,
      "outputs": [
        {
          "output_type": "stream",
          "name": "stdout",
          "text": [
            "Yes! It is your arm. You can see your hand and your forearm.\n",
            "One of your forearm bones broke. :( This is known as a fracture.\n"
          ]
        }
      ]
    },
    {
      "cell_type": "markdown",
      "metadata": {
        "id": "5NJfbJG88jox"
      },
      "source": [
        "## Exercise (Discussion)"
      ]
    },
    {
      "cell_type": "markdown",
      "metadata": {
        "id": "hHVVYGl_LDS0"
      },
      "source": [
        "So, how does an x-ray work and what kind of data does it give us? Let's learn about x-rays by watching the following video (click the image!)\n",
        "\n",
        "[![How x-rays work](http://i3.ytimg.com/vi/gsV7SJDDCY4/hqdefault.jpg)](https://www.youtube.com/watch?v=gsV7SJDDCY4 \"Everything Is AWESOME\")\n"
      ]
    },
    {
      "cell_type": "code",
      "metadata": {
        "id": "ZXgPsU1T8sBw",
        "colab": {
          "base_uri": "https://localhost:8080/"
        },
        "outputId": "3a6a7575-b6a1-4bc9-cf0d-507724050d54"
      },
      "source": [
        "#@title Rank how well x-rays will pass through bone, fat, water, and air. { display-mode: \"form\" }\n",
        "\n",
        "Best = \"Air\" #@param [\"Your answer\", \"Bone\",\"Fat\",\"Water\",\"Air\"]\n",
        "Second = \"Water\" #@param [\"Your answer\", \"Bone\",\"Fat\",\"Water\",\"Air\"]\n",
        "Third = \"Fat\" #@param [\"Your answer\", \"Bone\",\"Fat\",\"Water\",\"Air\"]\n",
        "Worst = \"Bone\" #@param [\"Your answer\", \"Bone\",\"Fat\",\"Water\",\"Air\"]\n",
        "\n",
        "\n",
        "if (Best == \"Air\") & (Second == \"Water\") & (Third == \"Fat\") & (Worst == \"Bone\"):\n",
        "  print(\"Yes! X-rays don't pass very well through bone and pass the best through air. \") # embellish this explanation!!!\n",
        "else:\n",
        "  print('Try again! Think about how well each one passes through.')\n",
        "\n",
        "# what is the major risk factor of using an x-ray?\n",
        "### radiation\n",
        "# why do we still use x-rays if we have this risk factor?\n",
        "### because it helps us!\n",
        "\n"
      ],
      "execution_count": null,
      "outputs": [
        {
          "output_type": "stream",
          "name": "stdout",
          "text": [
            "Yes! X-rays don't pass very well through bone and pass the best through air. \n"
          ]
        }
      ]
    },
    {
      "cell_type": "code",
      "metadata": {
        "id": "7Xw2FBFv8xQK",
        "colab": {
          "base_uri": "https://localhost:8080/"
        },
        "outputId": "860f960b-8ff4-48d3-fcac-a6cc79dcb003"
      },
      "source": [
        "#@title What is the major risk factor of using an x-ray? { display-mode: \"form\" }\n",
        "\n",
        "RiskFactor  = \"Radiation\" #@param [\"Your answer\", \"Bruising\", \"Radiation\", \"Cost\", \"Time\"]\n",
        "\n",
        "if RiskFactor == 'Radiation':\n",
        "  print(\"Yes! X-rays emit radiation that can be harmful to the body.\")\n",
        "if RiskFactor == \"Cost\":\n",
        "  print(\"It may be costly to take one but cost is not a risk factor!\")\n",
        "if RiskFactor == \"Time\":\n",
        "  print(\"It may take a while to get one but time is not a risk factor!\")\n",
        "if RiskFactor == \"Bruising\":\n",
        "  print(\"Not quite! X-rays don't cause bruising.\")"
      ],
      "execution_count": null,
      "outputs": [
        {
          "output_type": "stream",
          "name": "stdout",
          "text": [
            "Yes! X-rays emit radiation that can be harmful to the body.\n"
          ]
        }
      ]
    },
    {
      "cell_type": "markdown",
      "metadata": {
        "id": "7Al3ew8mrKNA"
      },
      "source": [
        "### If this risk exists, why do we still use x-rays?\n",
        "Discuss with your group."
      ]
    },
    {
      "cell_type": "markdown",
      "metadata": {
        "id": "G4r1_Pc3vEKD"
      },
      "source": [
        "# Milestone 2. Understand and visualizing our data"
      ]
    },
    {
      "cell_type": "markdown",
      "metadata": {
        "id": "GbjXNQ0b6fZm"
      },
      "source": [
        "\n",
        "## Activity 2a. What data do we have?\n"
      ]
    },
    {
      "cell_type": "markdown",
      "metadata": {
        "id": "Q4xmAl3AvlJw"
      },
      "source": [
        "### Exercise (Coding)"
      ]
    },
    {
      "cell_type": "markdown",
      "metadata": {
        "id": "_ddJwzM_VBxL"
      },
      "source": [
        "Our radiologist colleagues have helpfully provided the data sorted into testing and training data. Before we look at the images, let's take a look at the **metadata** (information about the images!)"
      ]
    },
    {
      "cell_type": "code",
      "metadata": {
        "id": "QSkCbAg7Jdvt",
        "colab": {
          "base_uri": "https://localhost:8080/",
          "height": 423
        },
        "outputId": "70ed30dd-5a77-49b1-d065-b3fa17b94587"
      },
      "source": [
        "# get a table with information about ALL of our images\n",
        "metadata = get_metadata()\n",
        "\n",
        "# what does it look like?\n",
        "metadata"
      ],
      "execution_count": null,
      "outputs": [
        {
          "output_type": "execute_result",
          "data": {
            "text/html": [
              "\n",
              "  <div id=\"df-391403e8-6816-4a6a-ba5d-2536fdc27f58\">\n",
              "    <div class=\"colab-df-container\">\n",
              "      <div>\n",
              "<style scoped>\n",
              "    .dataframe tbody tr th:only-of-type {\n",
              "        vertical-align: middle;\n",
              "    }\n",
              "\n",
              "    .dataframe tbody tr th {\n",
              "        vertical-align: top;\n",
              "    }\n",
              "\n",
              "    .dataframe thead th {\n",
              "        text-align: right;\n",
              "    }\n",
              "</style>\n",
              "<table border=\"1\" class=\"dataframe\">\n",
              "  <thead>\n",
              "    <tr style=\"text-align: right;\">\n",
              "      <th></th>\n",
              "      <th>class</th>\n",
              "      <th>split</th>\n",
              "      <th>index</th>\n",
              "    </tr>\n",
              "  </thead>\n",
              "  <tbody>\n",
              "    <tr>\n",
              "      <th>0</th>\n",
              "      <td>0.0</td>\n",
              "      <td>train</td>\n",
              "      <td>0</td>\n",
              "    </tr>\n",
              "    <tr>\n",
              "      <th>1</th>\n",
              "      <td>0.0</td>\n",
              "      <td>train</td>\n",
              "      <td>1</td>\n",
              "    </tr>\n",
              "    <tr>\n",
              "      <th>2</th>\n",
              "      <td>1.0</td>\n",
              "      <td>train</td>\n",
              "      <td>2</td>\n",
              "    </tr>\n",
              "    <tr>\n",
              "      <th>3</th>\n",
              "      <td>0.0</td>\n",
              "      <td>train</td>\n",
              "      <td>3</td>\n",
              "    </tr>\n",
              "    <tr>\n",
              "      <th>4</th>\n",
              "      <td>1.0</td>\n",
              "      <td>train</td>\n",
              "      <td>4</td>\n",
              "    </tr>\n",
              "    <tr>\n",
              "      <th>...</th>\n",
              "      <td>...</td>\n",
              "      <td>...</td>\n",
              "      <td>...</td>\n",
              "    </tr>\n",
              "    <tr>\n",
              "      <th>2395</th>\n",
              "      <td>1.0</td>\n",
              "      <td>test</td>\n",
              "      <td>2395</td>\n",
              "    </tr>\n",
              "    <tr>\n",
              "      <th>2396</th>\n",
              "      <td>0.0</td>\n",
              "      <td>test</td>\n",
              "      <td>2396</td>\n",
              "    </tr>\n",
              "    <tr>\n",
              "      <th>2397</th>\n",
              "      <td>0.0</td>\n",
              "      <td>test</td>\n",
              "      <td>2397</td>\n",
              "    </tr>\n",
              "    <tr>\n",
              "      <th>2398</th>\n",
              "      <td>1.0</td>\n",
              "      <td>test</td>\n",
              "      <td>2398</td>\n",
              "    </tr>\n",
              "    <tr>\n",
              "      <th>2399</th>\n",
              "      <td>0.0</td>\n",
              "      <td>test</td>\n",
              "      <td>2399</td>\n",
              "    </tr>\n",
              "  </tbody>\n",
              "</table>\n",
              "<p>2400 rows × 3 columns</p>\n",
              "</div>\n",
              "      <button class=\"colab-df-convert\" onclick=\"convertToInteractive('df-391403e8-6816-4a6a-ba5d-2536fdc27f58')\"\n",
              "              title=\"Convert this dataframe to an interactive table.\"\n",
              "              style=\"display:none;\">\n",
              "        \n",
              "  <svg xmlns=\"http://www.w3.org/2000/svg\" height=\"24px\"viewBox=\"0 0 24 24\"\n",
              "       width=\"24px\">\n",
              "    <path d=\"M0 0h24v24H0V0z\" fill=\"none\"/>\n",
              "    <path d=\"M18.56 5.44l.94 2.06.94-2.06 2.06-.94-2.06-.94-.94-2.06-.94 2.06-2.06.94zm-11 1L8.5 8.5l.94-2.06 2.06-.94-2.06-.94L8.5 2.5l-.94 2.06-2.06.94zm10 10l.94 2.06.94-2.06 2.06-.94-2.06-.94-.94-2.06-.94 2.06-2.06.94z\"/><path d=\"M17.41 7.96l-1.37-1.37c-.4-.4-.92-.59-1.43-.59-.52 0-1.04.2-1.43.59L10.3 9.45l-7.72 7.72c-.78.78-.78 2.05 0 2.83L4 21.41c.39.39.9.59 1.41.59.51 0 1.02-.2 1.41-.59l7.78-7.78 2.81-2.81c.8-.78.8-2.07 0-2.86zM5.41 20L4 18.59l7.72-7.72 1.47 1.35L5.41 20z\"/>\n",
              "  </svg>\n",
              "      </button>\n",
              "      \n",
              "  <style>\n",
              "    .colab-df-container {\n",
              "      display:flex;\n",
              "      flex-wrap:wrap;\n",
              "      gap: 12px;\n",
              "    }\n",
              "\n",
              "    .colab-df-convert {\n",
              "      background-color: #E8F0FE;\n",
              "      border: none;\n",
              "      border-radius: 50%;\n",
              "      cursor: pointer;\n",
              "      display: none;\n",
              "      fill: #1967D2;\n",
              "      height: 32px;\n",
              "      padding: 0 0 0 0;\n",
              "      width: 32px;\n",
              "    }\n",
              "\n",
              "    .colab-df-convert:hover {\n",
              "      background-color: #E2EBFA;\n",
              "      box-shadow: 0px 1px 2px rgba(60, 64, 67, 0.3), 0px 1px 3px 1px rgba(60, 64, 67, 0.15);\n",
              "      fill: #174EA6;\n",
              "    }\n",
              "\n",
              "    [theme=dark] .colab-df-convert {\n",
              "      background-color: #3B4455;\n",
              "      fill: #D2E3FC;\n",
              "    }\n",
              "\n",
              "    [theme=dark] .colab-df-convert:hover {\n",
              "      background-color: #434B5C;\n",
              "      box-shadow: 0px 1px 3px 1px rgba(0, 0, 0, 0.15);\n",
              "      filter: drop-shadow(0px 1px 2px rgba(0, 0, 0, 0.3));\n",
              "      fill: #FFFFFF;\n",
              "    }\n",
              "  </style>\n",
              "\n",
              "      <script>\n",
              "        const buttonEl =\n",
              "          document.querySelector('#df-391403e8-6816-4a6a-ba5d-2536fdc27f58 button.colab-df-convert');\n",
              "        buttonEl.style.display =\n",
              "          google.colab.kernel.accessAllowed ? 'block' : 'none';\n",
              "\n",
              "        async function convertToInteractive(key) {\n",
              "          const element = document.querySelector('#df-391403e8-6816-4a6a-ba5d-2536fdc27f58');\n",
              "          const dataTable =\n",
              "            await google.colab.kernel.invokeFunction('convertToInteractive',\n",
              "                                                     [key], {});\n",
              "          if (!dataTable) return;\n",
              "\n",
              "          const docLinkHtml = 'Like what you see? Visit the ' +\n",
              "            '<a target=\"_blank\" href=https://colab.research.google.com/notebooks/data_table.ipynb>data table notebook</a>'\n",
              "            + ' to learn more about interactive tables.';\n",
              "          element.innerHTML = '';\n",
              "          dataTable['output_type'] = 'display_data';\n",
              "          await google.colab.output.renderOutput(dataTable, element);\n",
              "          const docLink = document.createElement('div');\n",
              "          docLink.innerHTML = docLinkHtml;\n",
              "          element.appendChild(docLink);\n",
              "        }\n",
              "      </script>\n",
              "    </div>\n",
              "  </div>\n",
              "  "
            ],
            "text/plain": [
              "      class  split  index\n",
              "0       0.0  train      0\n",
              "1       0.0  train      1\n",
              "2       1.0  train      2\n",
              "3       0.0  train      3\n",
              "4       1.0  train      4\n",
              "...     ...    ...    ...\n",
              "2395    1.0   test   2395\n",
              "2396    0.0   test   2396\n",
              "2397    0.0   test   2397\n",
              "2398    1.0   test   2398\n",
              "2399    0.0   test   2399\n",
              "\n",
              "[2400 rows x 3 columns]"
            ]
          },
          "metadata": {},
          "execution_count": 9
        }
      ]
    },
    {
      "cell_type": "markdown",
      "metadata": {
        "id": "154Hqo1lJiqm"
      },
      "source": [
        "We see a few columns:\n",
        "1. `class`: This is either PNEUMONIA (1) or HEALTHY (0).\n",
        "2. `split`: What does this show us?\n",
        "3. `index`: What does this show us?\n",
        "\n",
        "How many images do we have total?"
      ]
    },
    {
      "cell_type": "code",
      "source": [
        "metadata.count()"
      ],
      "metadata": {
        "colab": {
          "base_uri": "https://localhost:8080/"
        },
        "id": "5vS3YQ0rb7F5",
        "outputId": "5d33c277-25ae-4a69-dc9f-105e57a82d61"
      },
      "execution_count": null,
      "outputs": [
        {
          "output_type": "execute_result",
          "data": {
            "text/plain": [
              "class    2400\n",
              "split    2400\n",
              "index    2400\n",
              "dtype: int64"
            ]
          },
          "metadata": {},
          "execution_count": 17
        }
      ]
    },
    {
      "cell_type": "markdown",
      "metadata": {
        "id": "sUvx6C0RJk6W"
      },
      "source": [
        "#Counting Images\n",
        "We want to know how many PNEUMONIA and how many NORMAL images we have in total. We can count it with pandas or we can visualize it with seaborn's visualization tools.\n",
        "\n",
        "For pandas, you can try:\n",
        "```\n",
        "data_table.groupby(['column_name']).count()\n",
        "```\n",
        "\n",
        "For visualizing in graphs, we will want to use the following:\n",
        "\n",
        "```\n",
        "sns.countplot(x = 'column_name', data = data_table)\n",
        "```\n",
        "\n",
        "Try modifying this code! Think about:\n",
        "* What is our column_name for PNEUMONIA or HEALTHY?\n",
        "* What is our data table's name?"
      ]
    },
    {
      "cell_type": "code",
      "metadata": {
        "id": "cdBmBj-KJ2ex",
        "colab": {
          "base_uri": "https://localhost:8080/",
          "height": 297
        },
        "outputId": "5f031f94-dde9-4141-bf3c-cee63d1a3180"
      },
      "source": [
        "# grab our seaborn visualization toolbox!\n",
        "import seaborn as sns\n",
        "\n",
        "### YOUR CODE HERE\n",
        "metadata.groupby(['class']).count()\n",
        "sns.countplot(x = 'class', data = metadata)\n",
        "### END CODE"
      ],
      "execution_count": null,
      "outputs": [
        {
          "output_type": "execute_result",
          "data": {
            "text/plain": [
              "<matplotlib.axes._subplots.AxesSubplot at 0x7fc92fee83d0>"
            ]
          },
          "metadata": {},
          "execution_count": 18
        },
        {
          "output_type": "display_data",
          "data": {
            "image/png": "[encoded data removed]",
            "text/plain": [
              "<Figure size 432x288 with 1 Axes>"
            ]
          },
          "metadata": {
            "needs_background": "light"
          }
        }
      ]
    },
    {
      "cell_type": "markdown",
      "metadata": {
        "id": "C9I_cSyURSIA"
      },
      "source": [
        "We split our data into different 'sets' that each will work differently with our machine learning model.\n",
        "\n",
        "Think of our AI as a machine learning 'student'.\n",
        "\n",
        "**Training Set:** Our training set is like a training manual. Our algorithm will read, or 'train', on this over and over again to try and learn its task.\n",
        "\n",
        "**Test Set:** Our test set is like a test. It is testing our model on problems that it has not seen before.\n",
        "\n",
        "**We usually have a much larger training manual than our test. Let's see if this is the case with our data!**\n"
      ]
    },
    {
      "cell_type": "markdown",
      "metadata": {
        "id": "Wt44VQeIJ99R"
      },
      "source": [
        "Notice that our 'split' designation is found in the metadata. Plot the count of each 'set' in our data below:"
      ]
    },
    {
      "cell_type": "code",
      "metadata": {
        "id": "TWr3MI0SKKUp",
        "colab": {
          "base_uri": "https://localhost:8080/",
          "height": 297
        },
        "outputId": "586e1b16-7b46-4a35-a92a-ba1b7e1ab0d6"
      },
      "source": [
        "### YOUR CODE HERE\n",
        "metadata.groupby(['split']).count()\n",
        "sns.countplot(x = 'split', data = metadata)\n",
        "### END CODE"
      ],
      "execution_count": null,
      "outputs": [
        {
          "output_type": "execute_result",
          "data": {
            "text/plain": [
              "<matplotlib.axes._subplots.AxesSubplot at 0x7fc92f986e50>"
            ]
          },
          "metadata": {},
          "execution_count": 19
        },
        {
          "output_type": "display_data",
          "data": {
            "image/png": "[encoded data removed]",
            "text/plain": [
              "<Figure size 432x288 with 1 Axes>"
            ]
          },
          "metadata": {
            "needs_background": "light"
          }
        }
      ]
    },
    {
      "cell_type": "markdown",
      "metadata": {
        "id": "jSQywjuw6auW"
      },
      "source": [
        "We are also interested in how many of each 'class' (PNEUMONIA or NORMAL) we have in each 'split' (train or test)\n",
        "group by set and count the classes: for example, how many of the Training Set images are pneumonia?\n",
        "\n",
        "Try this out with your group! As a hint...\n",
        "* you might visualize this with seaborn, setting another variable called 'hue' to be either `class` or `split`\n",
        "* if you use `groupby` along with `count()`, you can pass in a list of different variables."
      ]
    },
    {
      "cell_type": "code",
      "metadata": {
        "id": "boZOmt6DDsil",
        "colab": {
          "base_uri": "https://localhost:8080/",
          "height": 297
        },
        "outputId": "5300bd6e-e01e-496e-b358-51db557c1c3d"
      },
      "source": [
        "### YOUR CODE HERE\n",
        "metadata.groupby(['split', 'split']).count()\n",
        "sns.countplot(x = 'split', hue = 'class', data = metadata)\n",
        "### END CODE"
      ],
      "execution_count": null,
      "outputs": [
        {
          "output_type": "execute_result",
          "data": {
            "text/plain": [
              "<matplotlib.axes._subplots.AxesSubplot at 0x7fc92f91fd50>"
            ]
          },
          "metadata": {},
          "execution_count": 20
        },
        {
          "output_type": "display_data",
          "data": {
            "image/png": "[encoded data removed]",
            "text/plain": [
              "<Figure size 432x288 with 1 Axes>"
            ]
          },
          "metadata": {
            "needs_background": "light"
          }
        }
      ]
    },
    {
      "cell_type": "markdown",
      "metadata": {
        "id": "JBHUX917wkeo"
      },
      "source": [
        "## Activity 2b. What does our data look like?"
      ]
    },
    {
      "cell_type": "markdown",
      "metadata": {
        "id": "WXpRiS2qENjQ"
      },
      "source": [
        "Now, let's take a look at the data itself!\n",
        "\n",
        "**Question: What format do you think our data are in?**\n",
        "\n",
        "Discuss this with your group!\n",
        "\n"
      ]
    },
    {
      "cell_type": "markdown",
      "metadata": {
        "id": "86FTqK8JwDjk"
      },
      "source": [
        "### Exercise (Coding)"
      ]
    },
    {
      "cell_type": "markdown",
      "metadata": {
        "id": "BSzo7bJyEhfq"
      },
      "source": [
        "We will check what we think the data is against what python tells us it is. Let's start by loading in the data and the labels:\n"
      ]
    },
    {
      "cell_type": "code",
      "metadata": {
        "id": "wzCkAqWPYHsP"
      },
      "source": [
        "train_data, train_labels = get_train_data()"
      ],
      "execution_count": null,
      "outputs": []
    },
    {
      "cell_type": "markdown",
      "metadata": {
        "id": "kDoQFi-eYMeE"
      },
      "source": [
        "Try printing out `train_data.shape` and `train_labels.shape`. Can you explain the results?"
      ]
    },
    {
      "cell_type": "code",
      "metadata": {
        "id": "a9lDN-aYYJXc",
        "colab": {
          "base_uri": "https://localhost:8080/"
        },
        "outputId": "0a964f73-4971-458b-ddf6-405de66d479f"
      },
      "source": [
        "#YOUR CODE HERE\n",
        "print(train_data.shape)\n",
        "print(train_labels.shape)"
      ],
      "execution_count": null,
      "outputs": [
        {
          "output_type": "stream",
          "name": "stdout",
          "text": [
            "(2000, 64, 64, 3)\n",
            "(2000,)\n"
          ]
        }
      ]
    },
    {
      "cell_type": "markdown",
      "metadata": {
        "id": "fOCUsF5K9sA7"
      },
      "source": [
        "Now, let's look at a single image! Below, the outputs help us understand: **what kind of data is `image`? What are its dimensions? What is its label?**"
      ]
    },
    {
      "cell_type": "code",
      "metadata": {
        "id": "rJEKBKd69uhT",
        "colab": {
          "base_uri": "https://localhost:8080/"
        },
        "outputId": "c833fb2d-6302-4a5c-f084-27274db6f871"
      },
      "source": [
        "image = train_data[0]\n",
        "image_label = train_labels[0]\n",
        "\n",
        "print('Our image is stored as %s in Python'%type(image))\n",
        "print('Our image has dimensions of (%d, %d, %d)'%image.shape)\n",
        "print('Our image has label %d'%image_label)"
      ],
      "execution_count": null,
      "outputs": [
        {
          "output_type": "stream",
          "name": "stdout",
          "text": [
            "Our image is stored as <class 'numpy.ndarray'> in Python\n",
            "Our image has dimensions of (64, 64, 3)\n",
            "Our image has label 0\n"
          ]
        }
      ]
    },
    {
      "cell_type": "code",
      "metadata": {
        "id": "lHY2jaKo_HlU",
        "colab": {
          "base_uri": "https://localhost:8080/"
        },
        "outputId": "22376800-54a5-402f-d2c8-7cea2a4a3e6f"
      },
      "source": [
        "#@title What does image shape represent? { display-mode: \"form\" }\n",
        "\n",
        "#@markdown What does the bold number (**64**, 64, 3) represent?\n",
        "Dimension_0  = \"image height\" #@param [\"Your answer\", \"image width\", \"image height\",\"number of colors\"]\n",
        "\n",
        "#@markdown What does the bold number (64, **64**, 3) represent?\n",
        "Dimension_1  = \"image width\" #@param [\"Your answer\", \"image width\", \"image height\",\"number of colors\"]\n",
        "\n",
        "#@markdown What does the bold number (64, 64, **3**) represent?\n",
        "Dimension_2  = \"number of colors\" #@param [\"Your answer\", \"image width\", \"image height\",\"number of colors\"]\n",
        "\n",
        "if Dimension_0 == 'image height':\n",
        "  print(\"Yes! Dimension_0 is the height of the image.\")\n",
        "else:\n",
        "  print(\"Try again for Dimension_0!\")\n",
        "\n",
        "if Dimension_1 == 'image width':\n",
        "  print(\"Yes! Dimension_1 is the width of the image.\")\n",
        "else:\n",
        "  print(\"Try again for Dimension_1!\")\n",
        "\n",
        "if Dimension_2 == 'number of colors':\n",
        "  print(\"Yes! Dimension_2 stands for 3 colors - (r,g,b).\")\n",
        "else:\n",
        "  print(\"Try again for Dimension_2!\")\n"
      ],
      "execution_count": null,
      "outputs": [
        {
          "output_type": "stream",
          "name": "stdout",
          "text": [
            "Yes! Dimension_0 is the height of the image.\n",
            "Yes! Dimension_1 is the width of the image.\n",
            "Yes! Dimension_2 stands for 3 colors - (r,g,b).\n"
          ]
        }
      ]
    },
    {
      "cell_type": "markdown",
      "metadata": {
        "id": "at6q_Li7zJXi"
      },
      "source": [
        "**Visualize single image with plot_one_image**"
      ]
    },
    {
      "cell_type": "markdown",
      "metadata": {
        "id": "_WxXax6-FkMj"
      },
      "source": [
        "Remember our `plot_one_image` function from last week? We'll use that with our data to view our images! Let's see a single image.\n",
        "\n",
        "`plot_one_image` can take in either one image or many images. To use it with one image that is 3D, call:\n",
        "\n",
        "```\n",
        "plot_one_image(image)\n",
        "```\n",
        "\n",
        "To use it with many images, call:\n",
        "\n",
        "\n",
        "```\n",
        "plot_one_image(data, labels, index)\n",
        "```\n",
        "\n",
        "where:\n",
        "* `data`: all of our images in one array\n",
        "* `labels`: the labels corresponding to the images\n",
        "* `index`: which image we want to see\n"
      ]
    },
    {
      "cell_type": "code",
      "metadata": {
        "id": "HJibNL7CzXrl",
        "colab": {
          "base_uri": "https://localhost:8080/",
          "height": 286
        },
        "outputId": "f2ed095b-def7-4ddd-dbe2-a8fd48f9f3fe"
      },
      "source": [
        "# plot a SINGLE image\n",
        "### YOUR CODE HERE\n",
        "plot_one_image(image)\n",
        "\n",
        "### END CODE"
      ],
      "execution_count": null,
      "outputs": [
        {
          "output_type": "stream",
          "name": "stdout",
          "text": [
            "Label: \n"
          ]
        },
        {
          "output_type": "display_data",
          "data": {
            "image/png": "[encoded data removed]",
            "text/plain": [
              "<Figure size 432x288 with 1 Axes>"
            ]
          },
          "metadata": {
            "needs_background": "light"
          }
        }
      ]
    },
    {
      "cell_type": "markdown",
      "metadata": {
        "id": "2S89r_u1K00h"
      },
      "source": [
        "###Exercise (Coding)"
      ]
    },
    {
      "cell_type": "markdown",
      "metadata": {
        "id": "uGKMrtjewuyr"
      },
      "source": [
        "Let's visualize a few more images from our data!"
      ]
    },
    {
      "cell_type": "code",
      "metadata": {
        "id": "WKCjmUmYzt2P"
      },
      "source": [
        "# use a for loop to visualize more images\n",
        "\n",
        "### YOUR CODE HERE\n",
        "\n",
        "### END CODE"
      ],
      "execution_count": null,
      "outputs": []
    },
    {
      "cell_type": "markdown",
      "metadata": {
        "id": "hy1a01gUZj_F"
      },
      "source": [
        "**Discuss:** How can **you** spot differences between PNEUMONIA and NORMAL images?"
      ]
    },
    {
      "cell_type": "markdown",
      "metadata": {
        "id": "_FiJXF1z2OVf"
      },
      "source": [
        "**Optional:** We might want to look at several PNEUMONIA and NORMAL images **separately**. Modify your for loop to visualize JUST PNEUMONIA and then JUST NORMAL images."
      ]
    },
    {
      "cell_type": "code",
      "metadata": {
        "id": "GeXzhBYa2bDB"
      },
      "source": [
        "# use a loop to visualize just PNEUMONIA images\n",
        "\n",
        "### YOUR CODE HERE\n",
        "\n",
        "### END CODE"
      ],
      "execution_count": null,
      "outputs": []
    },
    {
      "cell_type": "markdown",
      "metadata": {
        "id": "GduUSm7K4gug"
      },
      "source": [
        "## Activity 2c. Fun with manipulating images\n",
        "\n",
        "In this section, we'll practice some techniques for working with image data.\n"
      ]
    },
    {
      "cell_type": "markdown",
      "metadata": {
        "id": "LITQ5Jcz9gIf"
      },
      "source": [
        "### Exercise (Coding)"
      ]
    },
    {
      "cell_type": "markdown",
      "metadata": {
        "id": "BF84gjox8eyn"
      },
      "source": [
        "\n",
        "\n",
        "Like we saw, an image is a 3D array with (y_location, x_location, rgb). Another way of saying this is that an image is a STACK of color matrices. Let's make this more tangible by creating a fake \"mini\" image!\n",
        "\n",
        "**Notice that we're using a scale of 0 to 1 instead of 0 to 255.**"
      ]
    },
    {
      "cell_type": "code",
      "metadata": {
        "id": "wX2RqMadmdqm",
        "colab": {
          "base_uri": "https://localhost:8080/"
        },
        "outputId": "ecb538d9-e133-41c5-b4c2-c05def5aa918"
      },
      "source": [
        "import numpy as np\n",
        "\n",
        "tiny_image = np.array([[[1, 0, 0],\n",
        "                       [.5, .5, 0]],\n",
        "                      [[0, 1, 1],\n",
        "                       [.1, .2, 1]]])\n",
        "print (tiny_image)\n",
        "print (\"Dimensions: \", tiny_image.shape)"
      ],
      "execution_count": null,
      "outputs": [
        {
          "output_type": "stream",
          "name": "stdout",
          "text": [
            "[[[1.  0.  0. ]\n",
            "  [0.5 0.5 0. ]]\n",
            "\n",
            " [[0.  1.  1. ]\n",
            "  [0.1 0.2 1. ]]]\n",
            "Dimensions:  (2, 2, 3)\n"
          ]
        }
      ]
    },
    {
      "cell_type": "markdown",
      "metadata": {
        "id": "N-1hz1PHcN-l"
      },
      "source": [
        "**How many pixels are in our image? What does each number mean?**\n",
        "\n",
        "Let's plot our tiny image! Do the colors match what you expected?\n",
        "\n"
      ]
    },
    {
      "cell_type": "code",
      "metadata": {
        "id": "N-BE7lFEdMw1",
        "colab": {
          "base_uri": "https://localhost:8080/",
          "height": 287
        },
        "outputId": "56b4b3c5-38d6-4d44-92b4-b43e6fd7d021"
      },
      "source": [
        "plot_one_image(tiny_image)"
      ],
      "execution_count": null,
      "outputs": [
        {
          "output_type": "stream",
          "name": "stdout",
          "text": [
            "Label: \n"
          ]
        },
        {
          "output_type": "display_data",
          "data": {
            "image/png": "[encoded data removed]",
            "text/plain": [
              "<Figure size 432x288 with 1 Axes>"
            ]
          },
          "metadata": {
            "needs_background": "light"
          }
        }
      ]
    },
    {
      "cell_type": "markdown",
      "metadata": {
        "id": "Jxe8Yhdgdg--"
      },
      "source": [
        "**Experiment with changing the numbers to change your tiny image!**\n",
        "\n",
        "What happens if we \"slice\" like this?"
      ]
    },
    {
      "cell_type": "code",
      "metadata": {
        "id": "WogayJu-mnSn",
        "colab": {
          "base_uri": "https://localhost:8080/"
        },
        "outputId": "9af1e448-ccab-4ab9-96fa-3a5177b0875c"
      },
      "source": [
        "tiny_image[:,:,2]"
      ],
      "execution_count": null,
      "outputs": [
        {
          "output_type": "execute_result",
          "data": {
            "text/plain": [
              "array([[0., 0.],\n",
              "       [1., 1.]])"
            ]
          },
          "metadata": {},
          "execution_count": 29
        }
      ]
    },
    {
      "cell_type": "markdown",
      "metadata": {
        "id": "q3oK94he9Gyu"
      },
      "source": [
        "Let's try changing one of the color dimensions:"
      ]
    },
    {
      "cell_type": "code",
      "metadata": {
        "id": "nbtYQ1Sy9L2m"
      },
      "source": [
        "new_image = tiny_image.copy() #make a copy so we don't change the original\n",
        "new_image[:,:,2] = 0"
      ],
      "execution_count": null,
      "outputs": []
    },
    {
      "cell_type": "markdown",
      "metadata": {
        "id": "rMTgfDO29VNv"
      },
      "source": [
        "What did this do? Visualize it!!\n"
      ]
    },
    {
      "cell_type": "code",
      "metadata": {
        "id": "aBWu6A299XNH"
      },
      "source": [
        "### YOUR CODE HERE\n",
        "\n",
        "### END CODE"
      ],
      "execution_count": null,
      "outputs": []
    },
    {
      "cell_type": "markdown",
      "metadata": {
        "id": "f4DfKYy09ZTY"
      },
      "source": [
        "Now, try to create a blue version of your image. This is know as **tinting.**\n",
        "\n",
        "(Hint: Zero out the non-blue channels of the image.)"
      ]
    },
    {
      "cell_type": "code",
      "metadata": {
        "id": "xTOoJ5KK9e3A"
      },
      "source": [
        "### YOUR CODE HERE\n",
        "\n",
        "### END CODE"
      ],
      "execution_count": null,
      "outputs": []
    },
    {
      "cell_type": "markdown",
      "metadata": {
        "id": "8WOrufcp9_r1"
      },
      "source": [
        "### Exercise (Coding)"
      ]
    },
    {
      "cell_type": "markdown",
      "metadata": {
        "id": "2r2w2uWk-DW8"
      },
      "source": [
        "You've probably used an image crop before, where you segment part of an image out, like below. We will work on coloring a rectangle on your image.\n",
        "\n",
        "![](https://ppom.nmediahosting.com/wp-content/uploads/2013/06/cropping.jpg)"
      ]
    },
    {
      "cell_type": "markdown",
      "metadata": {
        "id": "XsqGHGpD-Yg3"
      },
      "source": [
        "The first step to doing this is identifying a rectangle in the image. Let's try to color a rectangle in our `rect_image`."
      ]
    },
    {
      "cell_type": "code",
      "metadata": {
        "id": "2PE9jpOS-knw",
        "colab": {
          "base_uri": "https://localhost:8080/",
          "height": 286
        },
        "outputId": "610a3a42-4379-44e7-a143-1112d2ac3fbd"
      },
      "source": [
        "rect_image = image.copy()\n",
        "plot_one_image(rect_image)"
      ],
      "execution_count": null,
      "outputs": [
        {
          "output_type": "stream",
          "name": "stdout",
          "text": [
            "Label: \n"
          ]
        },
        {
          "output_type": "display_data",
          "data": {
            "image/png": "[encoded data removed]",
            "text/plain": [
              "<Figure size 432x288 with 1 Axes>"
            ]
          },
          "metadata": {
            "needs_background": "light"
          }
        }
      ]
    },
    {
      "cell_type": "markdown",
      "metadata": {
        "id": "VR78C9xo-ozZ"
      },
      "source": [
        "You can access a pixel at the location (5, 5) in the image like this:\n"
      ]
    },
    {
      "cell_type": "code",
      "metadata": {
        "id": "9LTpWmYY-1G6",
        "colab": {
          "base_uri": "https://localhost:8080/"
        },
        "outputId": "c470d96e-6aab-42fe-8a1b-d20de4c8fa24"
      },
      "source": [
        "rect_image[5,5]"
      ],
      "execution_count": null,
      "outputs": [
        {
          "output_type": "execute_result",
          "data": {
            "text/plain": [
              "array([0.5137255, 0.5137255, 0.5137255], dtype=float32)"
            ]
          },
          "metadata": {},
          "execution_count": 31
        }
      ]
    },
    {
      "cell_type": "markdown",
      "metadata": {
        "id": "s8ISzUfp-2NC"
      },
      "source": [
        "How would you print the amount of **red** at this pixel?"
      ]
    },
    {
      "cell_type": "code",
      "metadata": {
        "id": "0Tg7_VOL-5Xb",
        "colab": {
          "base_uri": "https://localhost:8080/"
        },
        "outputId": "7ada2a37-7516-4ca8-c1cf-f61895d333c6"
      },
      "source": [
        "#YOUR CODE HERE\n",
        "print(image[5, 5, 0])"
      ],
      "execution_count": null,
      "outputs": [
        {
          "output_type": "stream",
          "name": "stdout",
          "text": [
            "0.5137255\n"
          ]
        }
      ]
    },
    {
      "cell_type": "markdown",
      "metadata": {
        "id": "Z6oCxVeC-62S"
      },
      "source": [
        "You can change the color the same way! For example:\n",
        "\n",
        "```\n",
        "rect_image[5,5,0] = 0.5\n",
        "```"
      ]
    },
    {
      "cell_type": "markdown",
      "metadata": {
        "id": "Jo5ACgAzf51_"
      },
      "source": [
        "Try making a **single** pixel in our image bright red."
      ]
    },
    {
      "cell_type": "code",
      "metadata": {
        "id": "j_1y-p0ef5MU"
      },
      "source": [
        "#YOUR CODE HERE\n",
        "rect_image[5, 5, 0] = 1\n",
        "rect_image[5, 5, 1] = 0\n",
        "rect_image[5, 5, 2] = 0"
      ],
      "execution_count": null,
      "outputs": []
    },
    {
      "cell_type": "markdown",
      "metadata": {
        "id": "furz533d_L1d"
      },
      "source": [
        "**Challenge:** With this in mind, can you write a for loop to draw a red rectangle on our image?"
      ]
    },
    {
      "cell_type": "code",
      "metadata": {
        "id": "w-yy27vV_Qrd",
        "colab": {
          "base_uri": "https://localhost:8080/",
          "height": 286
        },
        "outputId": "22bb89f9-480c-4f4e-f290-44f1a17ed24a"
      },
      "source": [
        "### YOUR CODE HERE\n",
        "plot_one_image(rect_image)\n",
        "### END CODE"
      ],
      "execution_count": null,
      "outputs": [
        {
          "output_type": "stream",
          "name": "stdout",
          "text": [
            "Label: \n"
          ]
        },
        {
          "output_type": "display_data",
          "data": {
            "image/png": "[encoded data removed]",
            "text/plain": [
              "<Figure size 432x288 with 1 Axes>"
            ]
          },
          "metadata": {
            "needs_background": "light"
          }
        }
      ]
    },
    {
      "cell_type": "markdown",
      "metadata": {
        "id": "lmaAKTgF6lJI"
      },
      "source": [
        "\n",
        "# Milestone 3. Applying Machine Learning to Pneumonia Prediction\n",
        "\n",
        "Now that we have experience working with image data, let's start planning our machine learning approach!"
      ]
    },
    {
      "cell_type": "markdown",
      "metadata": {
        "id": "JA2tfXWP6lq5"
      },
      "source": [
        "\n",
        "## Activity 3a. Defining our machine learning problem"
      ]
    },
    {
      "cell_type": "markdown",
      "metadata": {
        "id": "TgcE5wc7-MYM"
      },
      "source": [
        "Before we build our model, we have to identify what kind of problem it will solve and what data it's going to use."
      ]
    },
    {
      "cell_type": "markdown",
      "metadata": {
        "id": "ke6JF4cQ88dA"
      },
      "source": [
        "### Exercise (Discussion)"
      ]
    },
    {
      "cell_type": "markdown",
      "metadata": {
        "id": "z457gSlfVurn"
      },
      "source": [
        "What WILL our model look like? Remember, in machine learning, we always identify **inputs** and **outputs**. Our goal is to predict **outputs** from **inputs** with either **classification** or **regression**.\n",
        "\n",
        "In **classification**, our output is a category (like dogs or cats).\n",
        "\n",
        "In **regression**, our output is a value (like 0, 0.1, 0.3, 100, ...)."
      ]
    },
    {
      "cell_type": "code",
      "metadata": {
        "id": "Tx5vAivA9bLK",
        "colab": {
          "base_uri": "https://localhost:8080/"
        },
        "outputId": "9e6edc43-926d-4463-8b48-7c12ab80782f"
      },
      "source": [
        "#@title How will our model operate? { display-mode: \"form\" }\n",
        "\n",
        "#@markdown What are our inputs?\n",
        "inputs = \"images\" #@param [\"Your answer\",\"pneumonia vs. normal\", \"images\", \"image edges\", \"probability of pneumonia vs. normal\"]\n",
        "\n",
        "#@markdown What are our outputs?\n",
        "outputs = \"pneumonia vs. normal\" #@param [\"Your answer\",\"pneumonia vs. normal\", \"images\", \"image edges\", \"probability of pneumonia vs. normal\"]\n",
        "\n",
        "#@markdown What kind of problem will our AI model solve?\n",
        "problem_type  = \"classification\" #@param [\"Your answer\", \"classification\", \"regression\"]\n",
        "\n",
        "\n",
        "if inputs == \"images\":\n",
        "  print(\"Yes, our inputs are our images!\")\n",
        "else:\n",
        "  print('Not quite our inputs.')\n",
        "\n",
        "if outputs == \"pneumonia vs. normal\":\n",
        "  print(\"Yes, our outputs are pneumonia vs. normal!\")\n",
        "else:\n",
        "  print('Not quite our outputs.')\n",
        "\n",
        "if problem_type == \"classification\":\n",
        "  print(\"We are trying to predict labels, therefore this is classification!\")\n",
        "else:\n",
        "  print('Not quite our problem!')"
      ],
      "execution_count": null,
      "outputs": [
        {
          "output_type": "stream",
          "name": "stdout",
          "text": [
            "Yes, our inputs are our images!\n",
            "Yes, our outputs are pneumonia vs. normal!\n",
            "We are trying to predict labels, therefore this is classification!\n"
          ]
        }
      ]
    },
    {
      "cell_type": "markdown",
      "metadata": {
        "id": "KLGqxv3UwYnh"
      },
      "source": [
        "## Activity 3b. Building and evaluating models"
      ]
    },
    {
      "cell_type": "markdown",
      "metadata": {
        "id": "TVpNck1f6mMZ"
      },
      "source": [
        "### Exercise (Coding)\n"
      ]
    },
    {
      "cell_type": "markdown",
      "metadata": {
        "id": "93WOHcjxsWHT"
      },
      "source": [
        "Today, we'll use some of the Scikit-learn approaches you've seen before. You'll build classifiers on your dataset and see how well you do!\n",
        "\n",
        "Sklearn takes in 'flat' data: that is, data that looks like a table, and is just samples x features. We'll need to **flatten** our 64 x 64 x 3 images, like this:"
      ]
    },
    {
      "cell_type": "code",
      "metadata": {
        "id": "cNwnj9LLruMI"
      },
      "source": [
        "(train_data, train_labels) = get_train_data(flatten = True)"
      ],
      "execution_count": null,
      "outputs": []
    },
    {
      "cell_type": "markdown",
      "metadata": {
        "id": "YqB4aISKhjAj"
      },
      "source": [
        "Can you print out and explain the **shape** of  `train_data` and `train_labels`?"
      ]
    },
    {
      "cell_type": "code",
      "metadata": {
        "id": "zS-CHr8bhipC",
        "colab": {
          "base_uri": "https://localhost:8080/"
        },
        "outputId": "b0b9d82c-81dc-43d2-ed03-d9d6f827798b"
      },
      "source": [
        "#YOUR CODE HERE\n",
        "print(train_data.shape)\n",
        "print(train_labels.shape)"
      ],
      "execution_count": null,
      "outputs": [
        {
          "output_type": "stream",
          "name": "stdout",
          "text": [
            "(2000, 12288)\n",
            "(2000,)\n"
          ]
        }
      ]
    },
    {
      "cell_type": "markdown",
      "metadata": {
        "id": "FiKw6DHXiAgg"
      },
      "source": [
        "Please get `test_data` ready the same way, using `get_test_data`:"
      ]
    },
    {
      "cell_type": "code",
      "metadata": {
        "id": "vUdl-20dh_bP"
      },
      "source": [
        "#YOUR CODE HERE\n",
        "(test_data, test_labels) = get_test_data(flatten= True)"
      ],
      "execution_count": null,
      "outputs": []
    },
    {
      "cell_type": "markdown",
      "metadata": {
        "id": "CEKcyS1625HM"
      },
      "source": [
        "###Creating Baseline Models\n",
        "\n",
        "We've tried a few models in sklearn since last week. Below, we list them with some sample parameters:\n",
        "* `knn = KNeighborsClassifier(n_neighbors = 5)`\n",
        "* `log = LogisticRegression()`\n",
        "* `dt = DecisionTreeClassifier(max_depth = 2)`\n",
        "* others you can find [here](https://scikit-learn.org/stable/auto_examples/classification/plot_classifier_comparison.html) (try MLPClassifier!)\n",
        "\n",
        "Please **try out a few models**, following each step of the machine learning pipeline:\n",
        "- Set up a model\n",
        "- Train (fit) your model\n",
        "- Predict\n",
        "- Score using `accuracy_score`\n",
        "\n",
        "*Hint:* Check out the Conscientious Cars notebook for examples!\n"
      ]
    },
    {
      "cell_type": "markdown",
      "metadata": {
        "id": "KYHcut3JE-Hn"
      },
      "source": [
        "**Try to build the best model that you can!**\n",
        "\n",
        "Vary the parameters of your code."
      ]
    },
    {
      "cell_type": "code",
      "metadata": {
        "id": "VAkpFExw4R1k",
        "colab": {
          "base_uri": "https://localhost:8080/"
        },
        "outputId": "aebec36e-bc33-4da6-f73e-dcdc1f96bea3"
      },
      "source": [
        "#Set up, train, predict, and score!\n",
        "knn = KNeighborsClassifier(n_neighbors = 5)\n",
        "### USE AS MANY CELLS AS YOU WANT!\n",
        "knn.fit(train_data, train_labels)\n",
        "print(knn.score(test_data, test_labels))"
      ],
      "execution_count": null,
      "outputs": [
        {
          "output_type": "stream",
          "name": "stdout",
          "text": [
            "0.7025\n"
          ]
        }
      ]
    },
    {
      "cell_type": "code",
      "source": [
        "log = LogisticRegression()\n",
        "log.fit(train_data, train_labels)\n",
        "print(log.score(test_data, test_labels))"
      ],
      "metadata": {
        "colab": {
          "base_uri": "https://localhost:8080/"
        },
        "id": "J-_4Zyh131R7",
        "outputId": "6e477ab6-d08e-4ee7-a0c6-62e314bb74f9"
      },
      "execution_count": null,
      "outputs": [
        {
          "output_type": "stream",
          "name": "stdout",
          "text": [
            "0.6725\n"
          ]
        },
        {
          "output_type": "stream",
          "name": "stderr",
          "text": [
            "/usr/local/lib/python3.7/dist-packages/sklearn/linear_model/_logistic.py:818: ConvergenceWarning: lbfgs failed to converge (status=1):\n",
            "STOP: TOTAL NO. of ITERATIONS REACHED LIMIT.\n",
            "\n",
            "Increase the number of iterations (max_iter) or scale the data as shown in:\n",
            "    https://scikit-learn.org/stable/modules/preprocessing.html\n",
            "Please also refer to the documentation for alternative solver options:\n",
            "    https://scikit-learn.org/stable/modules/linear_model.html#logistic-regression\n",
            "  extra_warning_msg=_LOGISTIC_SOLVER_CONVERGENCE_MSG,\n"
          ]
        }
      ]
    },
    {
      "cell_type": "code",
      "source": [
        "dt = DecisionTreeClassifier(max_depth = 2)\n",
        "dt.fit(train_data, train_labels)\n",
        "print(dt.score(test_data, test_labels))"
      ],
      "metadata": {
        "colab": {
          "base_uri": "https://localhost:8080/"
        },
        "id": "gdiBn2bv4Hls",
        "outputId": "ad3d6000-15a5-4571-acd7-75326b12a66b"
      },
      "execution_count": null,
      "outputs": [
        {
          "output_type": "stream",
          "name": "stdout",
          "text": [
            "0.6575\n"
          ]
        }
      ]
    },
    {
      "cell_type": "markdown",
      "metadata": {
        "id": "grR2n3RRjVCt"
      },
      "source": [
        "**Discuss:** Are these results good enough for medical use? How could we improve them?"
      ]
    },
    {
      "cell_type": "markdown",
      "metadata": {
        "id": "vGqKDb2wte_g"
      },
      "source": [
        "# Congratulations on completing your baseline model!\n"
      ]
    },
    {
      "cell_type": "markdown",
      "metadata": {
        "id": "lmJ_ycYE4Zpj"
      },
      "source": [
        "![](https://storage.googleapis.com/kaggle-competitions/kaggle/10338/logos/header.png)"
      ]
    }
  ]
}